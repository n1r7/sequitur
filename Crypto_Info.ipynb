{
 "cells": [
  {
   "cell_type": "code",
   "execution_count": 2,
   "metadata": {},
   "outputs": [],
   "source": [
    "# IMPORT LIBRARIES\n",
    "\n",
    "import pandas as pd\n",
    "import requests\n",
    "import json\n",
    "import math\n",
    "\n",
    "\n",
    "# DETERMINE HOW MANY GET REQUESTS ARE REQUIRED AT 100 PER REQUEST\n",
    "\n",
    "coinlore = requests.get('https://api.coinlore.com/api/global/')\n",
    "#print(coinlore)\n",
    "coinlore_json = coinlore.json()\n",
    "#print(coinlore_json)\n",
    "num_coins = pd.DataFrame(coinlore_json)\n",
    "#num_coins.head()\n",
    "num_reqs = math.ceil(num_coins['coins_count']/100)\n",
    "#print(num_reqs)\n",
    "\n",
    "\n",
    "# CRYPTOCURRENCIES\n",
    "\n",
    "currencies = pd.DataFrame([])\n",
    "    \n",
    "for i in range(num_reqs):\n",
    "    coin_req = requests.get(f'https://api.coinlore.com/api/tickers/?start={i*100}&limit=100').json()\n",
    "    df_temp = pd.DataFrame(coin_req['data'])\n",
    "    currencies = currencies.append(df_temp, ignore_index=True, sort=False)\n",
    "\n",
    "currencies['type']='currency'\n",
    "currencies.to_csv(r'/Users/n1r7/Desktop/fincrime/crypto/crypto_currencies.csv') # Save to CSV\n",
    "\n",
    "\n",
    "# CRYPTO EXCHANGES\n",
    "\n",
    "ex_req = requests.get('https://api.coinlore.com/api/exchanges/').json()\n",
    "exchanges = pd.DataFrame(ex_req)\n",
    "exchanges['type']='exchange'\n",
    "exchanges.to_csv(r'/Users/n1r7/Desktop/fincrime/crypto/crypto_exchanges.csv') # Save to CSV\n",
    "\n",
    "\n",
    "# EXTRACT NAME\n",
    "\n",
    "curr_clean = currencies[['type','name','nameid','symbol']]\n",
    "exch_clean = exchanges[['type','name','country','url']]\n",
    "\n",
    "crypto_combined = pd.concat([exch_clean, curr_clean], axis=0, ignore_index=True, sort=True)\n",
    "crypto_combined.to_csv(r'/Users/n1r7/Desktop/fincrime/crypto/crypto_combined.csv') # Save to CSV\n"
   ]
  },
  {
   "cell_type": "code",
   "execution_count": 2,
   "metadata": {},
   "outputs": [],
   "source": [
    "# test = crypto_combined.sample(frac=0.10)\n",
    "\n",
    "# from fuzzywuzzy import fuzz\n",
    "\n",
    "\n",
    "# for name in test: \n",
    "#     fuzzy_ratio = fuzz.ratio('string1','string2')\n",
    "#     fuzzy_partial_ratio = fuzz.partial_ratio('string1','string2')\n",
    "#     fuzzy_token_sort = fuzz.token_sort_ratio('string1','string2')\n",
    "#     fuzzy_token_set = fuzz.token_set_ratio('string1','string2')\n",
    "\n",
    "\n",
    "\n",
    "\n",
    "    "
   ]
  },
  {
   "cell_type": "code",
   "execution_count": null,
   "metadata": {},
   "outputs": [],
   "source": []
  },
  {
   "cell_type": "code",
   "execution_count": null,
   "metadata": {},
   "outputs": [],
   "source": []
  },
  {
   "cell_type": "code",
   "execution_count": null,
   "metadata": {},
   "outputs": [],
   "source": []
  },
  {
   "cell_type": "code",
   "execution_count": null,
   "metadata": {},
   "outputs": [],
   "source": []
  },
  {
   "cell_type": "code",
   "execution_count": null,
   "metadata": {},
   "outputs": [],
   "source": []
  },
  {
   "cell_type": "code",
   "execution_count": null,
   "metadata": {},
   "outputs": [],
   "source": []
  },
  {
   "cell_type": "code",
   "execution_count": null,
   "metadata": {},
   "outputs": [],
   "source": []
  },
  {
   "cell_type": "code",
   "execution_count": null,
   "metadata": {},
   "outputs": [],
   "source": []
  },
  {
   "cell_type": "code",
   "execution_count": null,
   "metadata": {},
   "outputs": [],
   "source": []
  },
  {
   "cell_type": "code",
   "execution_count": null,
   "metadata": {},
   "outputs": [],
   "source": []
  },
  {
   "cell_type": "code",
   "execution_count": null,
   "metadata": {},
   "outputs": [],
   "source": []
  },
  {
   "cell_type": "code",
   "execution_count": null,
   "metadata": {},
   "outputs": [],
   "source": []
  },
  {
   "cell_type": "code",
   "execution_count": null,
   "metadata": {},
   "outputs": [],
   "source": []
  },
  {
   "cell_type": "code",
   "execution_count": null,
   "metadata": {},
   "outputs": [],
   "source": []
  }
 ],
 "metadata": {
  "kernelspec": {
   "display_name": "Python 3",
   "language": "python",
   "name": "python3"
  },
  "language_info": {
   "codemirror_mode": {
    "name": "ipython",
    "version": 3
   },
   "file_extension": ".py",
   "mimetype": "text/x-python",
   "name": "python",
   "nbconvert_exporter": "python",
   "pygments_lexer": "ipython3",
   "version": "3.7.3"
  }
 },
 "nbformat": 4,
 "nbformat_minor": 2
}
