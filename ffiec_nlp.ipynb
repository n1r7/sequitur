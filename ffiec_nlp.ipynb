{
 "cells": [
  {
   "cell_type": "code",
   "execution_count": 2,
   "metadata": {},
   "outputs": [],
   "source": [
    "import nltk\n",
    "import spacy\n",
    "import re\n",
    "\n",
    "import requests\n",
    "from bs4 import BeautifulSoup as bs\n",
    "\n",
    "from collections import OrderedDict"
   ]
  },
  {
   "cell_type": "code",
   "execution_count": 3,
   "metadata": {},
   "outputs": [
    {
     "data": {
      "text/plain": [
       "['https://bsaaml.ffiec.gov/manual/ComplianceProgram/01',\n",
       " 'https://bsaaml.ffiec.gov/manual/ComplianceProgram/02',\n",
       " 'https://bsaaml.ffiec.gov/manual/ComplianceProgram/03',\n",
       " 'https://bsaaml.ffiec.gov/manual/ComplianceProgram/04',\n",
       " 'https://bsaaml.ffiec.gov/manual/RegulatoryRequirements/01',\n",
       " 'https://bsaaml.ffiec.gov/manual/RegulatoryRequirements/02',\n",
       " 'https://bsaaml.ffiec.gov/manual/RegulatoryRequirements/03',\n",
       " 'https://bsaaml.ffiec.gov/manual/RegulatoryRequirements/04',\n",
       " 'https://bsaaml.ffiec.gov/manual/RegulatoryRequirements/05',\n",
       " 'https://bsaaml.ffiec.gov/manual/RegulatoryRequirements/06',\n",
       " 'https://bsaaml.ffiec.gov/manual/RegulatoryRequirements/07',\n",
       " 'https://bsaaml.ffiec.gov/manual/RegulatoryRequirements/08',\n",
       " 'https://bsaaml.ffiec.gov/manual/RegulatoryRequirements/09',\n",
       " 'https://bsaaml.ffiec.gov/manual/RegulatoryRequirements/10',\n",
       " 'https://bsaaml.ffiec.gov/manual/RegulatoryRequirements/11',\n",
       " 'https://bsaaml.ffiec.gov/manual/RegulatoryRequirements/12',\n",
       " 'https://bsaaml.ffiec.gov/manual/RegulatoryRequirements/13',\n",
       " 'https://bsaaml.ffiec.gov/manual/RegulatoryRequirements/14',\n",
       " 'https://bsaaml.ffiec.gov/manual/RegulatoryRequirements/15',\n",
       " 'https://bsaaml.ffiec.gov/manual/ProgramStructures/01',\n",
       " 'https://bsaaml.ffiec.gov/manual/ProgramStructures/02',\n",
       " 'https://bsaaml.ffiec.gov/manual/ProgramStructures/03',\n",
       " 'https://bsaaml.ffiec.gov/manual/ProductsAndServices/01',\n",
       " 'https://bsaaml.ffiec.gov/manual/ProductsAndServices/02',\n",
       " 'https://bsaaml.ffiec.gov/manual/ProductsAndServices/03',\n",
       " 'https://bsaaml.ffiec.gov/manual/ProductsAndServices/04',\n",
       " 'https://bsaaml.ffiec.gov/manual/ProductsAndServices/05',\n",
       " 'https://bsaaml.ffiec.gov/manual/ProductsAndServices/06',\n",
       " 'https://bsaaml.ffiec.gov/manual/ProductsAndServices/07',\n",
       " 'https://bsaaml.ffiec.gov/manual/ProductsAndServices/08',\n",
       " 'https://bsaaml.ffiec.gov/manual/ProductsAndServices/09',\n",
       " 'https://bsaaml.ffiec.gov/manual/ProductsAndServices/10',\n",
       " 'https://bsaaml.ffiec.gov/manual/ProductsAndServices/11',\n",
       " 'https://bsaaml.ffiec.gov/manual/ProductsAndServices/12',\n",
       " 'https://bsaaml.ffiec.gov/manual/ProductsAndServices/13',\n",
       " 'https://bsaaml.ffiec.gov/manual/ProductsAndServices/14',\n",
       " 'https://bsaaml.ffiec.gov/manual/ProductsAndServices/15',\n",
       " 'https://bsaaml.ffiec.gov/manual/ProductsAndServices/16',\n",
       " 'https://bsaaml.ffiec.gov/manual/ProductsAndServices/17',\n",
       " 'https://bsaaml.ffiec.gov/manual/ProductsAndServices/18',\n",
       " 'https://bsaaml.ffiec.gov/manual/ProductsAndServices/19',\n",
       " 'https://bsaaml.ffiec.gov/manual/ProductsAndServices/20',\n",
       " 'https://bsaaml.ffiec.gov/manual/ProductsAndServices/21',\n",
       " 'https://bsaaml.ffiec.gov/manual/PersonsAndEntities/01',\n",
       " 'https://bsaaml.ffiec.gov/manual/PersonsAndEntities/02',\n",
       " 'https://bsaaml.ffiec.gov/manual/PersonsAndEntities/03',\n",
       " 'https://bsaaml.ffiec.gov/manual/PersonsAndEntities/04',\n",
       " 'https://bsaaml.ffiec.gov/manual/PersonsAndEntities/05',\n",
       " 'https://bsaaml.ffiec.gov/manual/PersonsAndEntities/06',\n",
       " 'https://bsaaml.ffiec.gov/manual/PersonsAndEntities/07',\n",
       " 'https://bsaaml.ffiec.gov/manual/PersonsAndEntities/08',\n",
       " 'https://bsaaml.ffiec.gov/manual/Appendices/01',\n",
       " 'https://bsaaml.ffiec.gov/manual/Appendices/02',\n",
       " 'https://bsaaml.ffiec.gov/manual/Appendices/03',\n",
       " 'https://bsaaml.ffiec.gov/manual/Appendices/04',\n",
       " 'https://bsaaml.ffiec.gov/manual/Appendices/05',\n",
       " 'https://bsaaml.ffiec.gov/manual/Appendices/06',\n",
       " 'https://bsaaml.ffiec.gov/manual/Appendices/07',\n",
       " 'https://bsaaml.ffiec.gov/manual/Appendices/08',\n",
       " 'https://bsaaml.ffiec.gov/manual/Appendices/09',\n",
       " 'https://bsaaml.ffiec.gov/manual/Appendices/10',\n",
       " 'https://bsaaml.ffiec.gov/manual/Appendices/11',\n",
       " 'https://bsaaml.ffiec.gov/manual/Appendices/12',\n",
       " 'https://bsaaml.ffiec.gov/manual/Appendices/13',\n",
       " 'https://bsaaml.ffiec.gov/manual/Appendices/14',\n",
       " 'https://bsaaml.ffiec.gov/manual/Appendices/15',\n",
       " 'https://bsaaml.ffiec.gov/manual/Appendices/16',\n",
       " 'https://bsaaml.ffiec.gov/manual/Appendices/17',\n",
       " 'https://bsaaml.ffiec.gov/manual/Appendices/18',\n",
       " 'https://bsaaml.ffiec.gov/manual/Appendices/19',\n",
       " 'https://bsaaml.ffiec.gov/manual/Appendices/20',\n",
       " 'https://bsaaml.ffiec.gov/manual/Appendices/21']"
      ]
     },
     "execution_count": 3,
     "metadata": {},
     "output_type": "execute_result"
    }
   ],
   "source": [
    "# Read csv as list\n",
    "\n",
    "URLS = '../data/ffiec_urls.csv'\n",
    "\n",
    "with open(URLS, mode='r') as f:\n",
    "    pages = f.readlines()\n",
    "    pages = [re.sub(\"\\\\n\",\"\",i) for i in pages]\n",
    "    pages = [i.replace(' ', '') for i in pages]\n",
    "    pages.pop(0)"
   ]
  },
  {
   "cell_type": "code",
   "execution_count": 5,
   "metadata": {},
   "outputs": [],
   "source": [
    "# Run loop for each page\n",
    "\n",
    "list_of_soup = []\n",
    "\n",
    "for page in range(len(pages)):\n",
    "    \n",
    "    content = requests.get(pages[page])    \n",
    "    soup = bs(content.content)\n",
    "    \n",
    "    list_of_soup.append(soup)"
   ]
  },
  {
   "cell_type": "code",
   "execution_count": 6,
   "metadata": {},
   "outputs": [
    {
     "name": "stdout",
     "output_type": "stream",
     "text": [
      "72    =  Number of extracted sections\n",
      "4925  =  Number of extracted objects\n"
     ]
    }
   ],
   "source": [
    "# Extract content and append to one list\n",
    "\n",
    "def get_content_list(soup):\n",
    "\n",
    "    page_content = []\n",
    "\n",
    "    content = soup.find('section', id=\"content\")\n",
    "    content_container = content.findAll(['h3','p','h4','h6','li'])\n",
    "\n",
    "    for i in content_container:\n",
    "        text = i.text\n",
    "        cleaned_text = text.replace('\\r\\n', '').replace('\\n', '').replace('       ', '')\n",
    "        page_content.append(cleaned_text)\n",
    "\n",
    "    return page_content\n",
    "\n",
    "\n",
    "extracted_content = list(map(get_content_list, list_of_soup))\n",
    "\n",
    "count = 0\n",
    "for listElem in extracted_content:\n",
    "    count += len(listElem)  \n",
    "\n",
    "\n",
    "print(  len(extracted_content),\"   =  Number of extracted sections\")\n",
    "print(count,\" =  Number of extracted objects\")"
   ]
  },
  {
   "cell_type": "code",
   "execution_count": 8,
   "metadata": {},
   "outputs": [
    {
     "name": "stdout",
     "output_type": "stream",
     "text": [
      "PASS: ITEM COUNTS MATCH\n"
     ]
    }
   ],
   "source": [
    "# Flatten nested list\n",
    "\n",
    "from itertools import chain\n",
    "ffiec_content = list(chain(*extracted_content))\n",
    "\n",
    "if len(ffiec_content) == count:\n",
    "    print(\"PASS: ITEM COUNTS MATCH\")\n",
    "else:\n",
    "    print(\"ERROR: ITEM COUNT MISMATCH\\nMISSING DATA\")"
   ]
  },
  {
   "cell_type": "code",
   "execution_count": 9,
   "metadata": {},
   "outputs": [],
   "source": [
    "# NLTK Sentence Tokenizer\n",
    "\n",
    "import functools\n",
    "@functools.lru_cache(maxsize=128)\n",
    "def sentence_tokenizer(content):\n",
    "    sents = nltk.tokenize.sent_tokenize(content)\n",
    "    return sents\n",
    "\n",
    "\n",
    "\n",
    "sentences = []\n",
    "\n",
    "for i in extracted_content:\n",
    "    for j in i:\n",
    "        sentences.append(sentence_tokenizer(j))\n",
    "        \n",
    "nltk_sentences = list(chain(*sentences))\n"
   ]
  },
  {
   "cell_type": "code",
   "execution_count": 14,
   "metadata": {},
   "outputs": [
    {
     "name": "stdout",
     "output_type": "stream",
     "text": [
      "4925\n",
      "7437\n"
     ]
    }
   ],
   "source": [
    "print(len(ffiec_content))\n",
    "print(len(nltk_sentences))"
   ]
  },
  {
   "cell_type": "code",
   "execution_count": 15,
   "metadata": {},
   "outputs": [],
   "source": [
    "# Inverted index datastructure\n",
    "import nltk\n",
    "from collections import defaultdict\n",
    "from nltk.stem.snowball import EnglishStemmer  # Assuming we're working with English\n",
    " \n",
    "class Index:\n",
    "    \"\"\" Inverted index datastructure \"\"\"\n",
    " \n",
    "    def __init__(self, tokenizer, stemmer=None, stopwords=None):\n",
    "        \"\"\"\n",
    "        tokenizer   -- NLTK compatible tokenizer function\n",
    "        stemmer     -- NLTK compatible stemmer \n",
    "        stopwords   -- list of ignored words\n",
    "        \"\"\"\n",
    "        self.tokenizer = tokenizer\n",
    "        self.stemmer = stemmer\n",
    "        self.index = defaultdict(list)\n",
    "        self.documents = {}\n",
    "        self.__unique_id = 0\n",
    "        if not stopwords:\n",
    "            self.stopwords = set()\n",
    "        else:\n",
    "            self.stopwords = set(stopwords)\n",
    " \n",
    "    def lookup(self, word):\n",
    "        \"\"\"\n",
    "        Lookup a word in the index\n",
    "        \"\"\"\n",
    "        word = word.lower()\n",
    "        if self.stemmer:\n",
    "            word = self.stemmer.stem(word)\n",
    " \n",
    "        return [self.documents.get(id, None) for id in self.index.get(word)]\n",
    " \n",
    "    def add(self, document):\n",
    "        \"\"\"\n",
    "        Add a document string to the index\n",
    "        \"\"\"\n",
    "        for token in [t.lower() for t in nltk.word_tokenize(document)]:\n",
    "            if token in self.stopwords:\n",
    "                continue\n",
    " \n",
    "            if self.stemmer:\n",
    "                token = self.stemmer.stem(token)\n",
    " \n",
    "            if self.__unique_id not in self.index[token]:\n",
    "                self.index[token].append(self.__unique_id)\n",
    " \n",
    "        self.documents[self.__unique_id] = document\n",
    "        self.__unique_id += 1           \n",
    " \n",
    " \n",
    "index = Index(nltk.word_tokenize, \n",
    "              EnglishStemmer(), \n",
    "              nltk.corpus.stopwords.words('english'))"
   ]
  },
  {
   "cell_type": "code",
   "execution_count": 16,
   "metadata": {},
   "outputs": [],
   "source": [
    "# Add sentences to index\n",
    "for string in nltk_sentences:\n",
    "    index.add(string)"
   ]
  },
  {
   "cell_type": "code",
   "execution_count": 17,
   "metadata": {},
   "outputs": [],
   "source": [
    "# Create search function\n",
    "def search(search_term):\n",
    "    lookup = index.lookup(search_term)\n",
    "    return lookup"
   ]
  },
  {
   "cell_type": "code",
   "execution_count": 18,
   "metadata": {},
   "outputs": [
    {
     "data": {
      "text/plain": [
       "['Response to request letter items.',\n",
       " 'Designate an individual or individuals responsible for managing BSA compliance (BSA compliance officer).',\n",
       " 'The board of directors, acting through senior management, is ultimately responsible for ensuring that the bank maintains an effective BSA/AML internal control structure, including suspicious activity monitoring and reporting.',\n",
       " 'Identify a person or persons responsible for BSA/AML compliance.',\n",
       " 'Meet all regulatory recordkeeping and reporting requirements, meet recommendations for BSA/AML compliance, and provide for timely updates in response to changes in regulations.33Refer to Appendix P (\"BSA Record Retention Requirements\") for guidance.',\n",
       " 'For example, employees that complete the reporting forms (such as SARs, CTRs, and CTR exemptions) generally should not also be responsible for the decision to file the reports or grant the exemptions.',\n",
       " 'Train employees to be aware of their responsibilities under the BSA regulations and internal policy guidelines.',\n",
       " 'Those persons responsible for conducting an objective independent evaluation of the written BSA/AML compliance program should perform testing for specific compliance with the BSA, and evaluate pertinent management information systems (MIS).',\n",
       " 'The BSA compliance officer is responsible for coordinating and monitoring day-to-day BSA/AML compliance.',\n",
       " 'The BSA compliance officer is also charged with managing all aspects of the BSA/AML compliance program and with managing the bank’s adherence to the BSA and its implementing regulations; however, the board of directors is ultimately responsible for the bank’s BSA/AML compliance.',\n",
       " 'While the title of the individual responsible for overall BSA/AML compliance is not important, his or her level of authority and responsibility within the bank is critical.',\n",
       " 'The BSA compliance officer may delegate BSA/AML duties to other employees, but the officer should be responsible for overall BSA/AML compliance.',\n",
       " 'The board of directors is responsible for ensuring that the BSA compliance officer has sufficient authority and resources (monetary, physical, and personnel) to administer an effective BSA/AML compliance program based on the bank’s risk profile.',\n",
       " 'The BSA compliance officer is responsible for carrying out the direction of the board and ensuring that employees adhere to the bank’s BSA/AML policies, procedures, and processes.',\n",
       " 'The training should be tailored to the person’s specific responsibilities.',\n",
       " 'Formulate conclusions, communicate findings to management, prepare report comments, develop an appropriate supervisory response, and close the examination.',\n",
       " 'From those findings, the examiner should develop and document conclusions about the BSA/AML compliance program’s adequacy, discuss preliminary conclusions with bank management, present these conclusions in a written format for inclusion in the report of examination (ROE), and determine and document what regulatory response, if any, is appropriate.',\n",
       " 'In some cases, the appropriate regulatory response will include the citation of a regulatory violation.',\n",
       " \"When systemic instances of noncompliance are identified, the examiner should consider the noncompliance in the context of the overall program (internal controls, training, independent testing, responsible person) and refer to the Interagency Enforcement Statement (refer to Appendix R) to determine whether the bank's BSA/AML compliance program is deficient as a result of the systemic noncompliance.\",\n",
       " 'However, as with any other responsibility performed by a third party, the bank is ultimately responsible for that third party’s compliance with the requirements of the bank’s CIP.',\n",
       " 'This requirement contrasts with the reliance provision of the rule that permits the relied-upon party to take responsibility.',\n",
       " ' Contain a clear statement of management’s and staff’s responsibilities, including procedures, authority, and responsibility for reviewing and approving changes to a customer’s risk profile, as applicable.',\n",
       " 'Under the control prong, the beneficial owner is a single    individual with significant responsibility to control, manage or direct a    legal entity customer.3See 31 CFR 1010.230(d)(2)    This includes, an executive officer or senior manager (Chief Executive    Officer, Chief Financial Officer, Chief Operating Officer, President), or    any other individual who regularly performs similar functions.',\n",
       " 'Policies, procedures, and processes should describe the steps the bank takes to address each component and indicate the person(s) or departments responsible for identifying or producing an alert of unusual activity, managing the alert, deciding whether to file, SAR completion and filing, and monitoring and SAR filing on continuing activity.',\n",
       " 'Banks should have policies, procedures, and processes in place for referring unusual activity from all areas of the bank or business lines to the personnel or department responsible for evaluating unusual activity.',\n",
       " 'When multiple departments are responsible for researching unusual activities (i.e., the BSA department researches BSA-related activity and the Fraud department researches fraud-related activity), the lines of communication between the departments must remain open.',\n",
       " 'Investigation is the responsibility of law enforcement.',\n",
       " 'The bank should have policies, procedures, and processes for referring unusual activity from all business lines to the personnel or department responsible for evaluating unusual activity.',\n",
       " 'A SAR and any information that would reveal the existence of a SAR, are confidential, except as is necessary to fulfill BSA obligations and responsibilities.',\n",
       " 'A bank or its agent may reveal the existence of a SAR to fulfill responsibilities consistent with the BSA, provided no person involved in a suspicious transaction is notified that the transaction has been reported.',\n",
       " \"FinCEN and the bank's federal banking agency should be notified of any such request and of the bank's response.\",\n",
       " \"    Previously issued guidance clarified that sharing of a SAR or, more broadly, any information that would reveal the existence of a SAR, with a head office or controlling company (including overseas) promotes compliance with the applicable requirements of the BSA by enabling the head office or controlling company to discharge its oversight responsibilities with respect to enterprise-wide risk management, including oversight of a bank's compliance with applicable laws and regulations.\",\n",
       " 'A negative response is not required.',\n",
       " 'Additionally, actions taken in response to a request do not relieve a financial institution of its obligation to file a SAR and immediately notify law enforcement, if necessary, in accordance with applicable laws and regulations.',\n",
       " 'Additionally, a Subject Response List can be printed for documentation purposes.',\n",
       " 'The Subject Response List displays the total number of positive responses submitted to FinCEN for that transmission, the transmission date, the submitted date, and the tracking number and subject name that had the positive hit.',\n",
       " 'Additionally, actions taken in response to information obtained through the voluntary information sharing process do not relieve a financial institution of its obligation to file a SAR and to immediately notify law enforcement, if necessary, in accordance with all applicable laws and regulations.',\n",
       " 'Responsibilities of Originator’s Banks',\n",
       " 'Responsibilities of Intermediary Institutions',\n",
       " 'Responsibilities of Beneficiary’s Banks',\n",
       " \"The U.S. bank must report to FinCEN within 45 calendar days regardless of the foreign bank's response (e.g.\",\n",
       " 'positive response, negative response, incomplete response, or no response).',\n",
       " \"In addition, the rule requires the U.S. bank to request the foreign bank to agree to notify them if the foreign bank subsequently establishes a new correspondent account for an Iranian-linked financial institution designated under IEEPA at any time within 365 calendar days from the date of the foreign bank's initial response.\",\n",
       " 'The rule does not require a bank to take any actions other than those relating to the collection of information regardless of the response received from the foreign bank and the request for information from FinCEN does not relieve the bank of any other regulatory requirement.',\n",
       " 'The bank shall maintain a copy of any report filed with FinCEN and any supporting documentation, including the foreign bank certification, or other responses to an inquiry for a period of five years.',\n",
       " 'OFAC has been delegated responsibility by the Secretary of the Treasury for developing, promulgating, and administering U.S. sanctions programs.',\n",
       " 'The document explains the procedures that OFAC follows in determining the appropriate enforcement response to apparent violations of its regulations.',\n",
       " 'Some enforcement responses may result in the issuance of a civil penalty that, depending on the sanctions program affected, may be as much as $250,000 per violation or twice the amount of a transaction, whichever is greater.',\n",
       " 'The program should identify higher-risk areas, provide for appropriate internal controls for screening and reporting, establish independent testing for compliance, designate a bank employee or employees as responsible for OFAC compliance, and create training programs for appropriate personnel in all relevant areas of the bank.',\n",
       " \"When developing OFAC policies, procedures, and processes, the bank should keep in mind that OFAC considers the continued operation of an account or the processing of transactions post-designation, along with the adequacy of    the bank's OFAC compliance program, to be a factor in determining the appropriate enforcement response to an apparent violation of OFAC regulations.\",\n",
       " 'If a bank uses a third party, such as an agent or service provider, to perform OFAC checks on its behalf, as with any other responsibility performed by a third party, the bank is ultimately responsible for that third party’s compliance with the OFAC requirements.',\n",
       " 'With respect to domestic ACH transactions, the Originating Depository Financial Institution (ODFI) is responsible for verifying that the Originator is not a blocked party and making a good faith effort to ascertain that the Originator is not transmitting blocked funds.',\n",
       " 'The Receiving Depository Financial Institution (RDFI) similarly is responsible for verifying that the Receiver is not a blocked party.',\n",
       " \"If an ODFI receives domestic ACH transactions that its customer has already batched, the ODFI is not responsible for unbatching those transactions to ensure that no transactions violate OFAC's regulations.\",\n",
       " 'If an ODFI unbatches a file originally received from the Originator in order to process \"on-us\" transactions, that ODFI is responsible for the OFAC compliance for the on-us transactions because it is acting as both the ODFI and the RDFI for those transactions.',\n",
       " 'In the case of inbound IATs, and regardless of whether the OFAC flag in the IAT is set, an RDFI is responsible for compliance with OFAC sanctions programs.',\n",
       " 'Banks are responsible for tracking the amount of blocked funds, the ownership of those funds, and interest paid on those funds.',\n",
       " 'The person(s) responsible for testing should conduct an objective, comprehensive evaluation of OFAC policies, procedures, and processes.',\n",
       " 'Responsible Individual',\n",
       " 'It is recommended that every bank designate a qualified individual(s) to be responsible for the day-to-day compliance of the OFAC compliance program, including changes or updates to the various sanctions programs, and the reporting of blocked or rejected transactions to OFAC and the oversight of blocked funds.',\n",
       " \"The scope and frequency of the training should be consistent with the bank's OFAC risk profile and appropriate to employee responsibilities.\",\n",
       " 'In such organizations, management of BSA risk is generally the responsibility of a corporate compliance function that supports and oversees the BSA/AML compliance program.',\n",
       " 'A larger, more complex firm may establish a corporate BSA/AML compliance function to coordinate some or all BSA/AML responsibilities.',\n",
       " 'For example, when there is delegation of BSA/AML compliance responsibilities, and BSA/AML compliance staff is located within lines of business, expectations should be clearly set forth in order to ensure effective implementation of the BSA/AML compliance program.',\n",
       " 'In particular, allocation of responsibility should be clear with respect to the content and comprehensiveness of MIS reports, the depth and frequency of monitoring efforts, and the role of different parties within the banking organization (e.g., risk, business lines, operations) in BSA/AML compliance decision-making processes.',\n",
       " 'In addition, a clear line of responsibility may help to avoid conflicts of interest and ensure that objectivity is maintained.',\n",
       " 'Establishing internal controls to ensure that compliance objectivity is maintained when BSA/AML compliance staff is assigned additional bank responsibilities.',\n",
       " 'The board of directors and senior management of a bank have different responsibilities and roles in overseeing, and managing BSA/AML compliance risk.',\n",
       " 'The board of directors has primary responsibility for ensuring that the bank has a comprehensive and effective BSA/AML compliance program and oversight framework that is reasonably designed to ensure compliance with BSA/AML regulation.',\n",
       " 'Senior management is responsible for implementing the board-approved BSA/AML compliance program.',\n",
       " 'Boards of directors.169Foreign banking organizations should ensure that, with respect to their U.S. operations, the responsibilities of the board described in this section are fulfilled in an appropriate manner through their oversight structure and BSA/AML risk management framework.',\n",
       " 'The board of directors is responsible for approving the BSA/AML compliance program and for overseeing the structure and management of the bank’s BSA/AML compliance function.',\n",
       " 'The board is responsible for setting an appropriate culture of BSA/AML compliance, establishing clear policies regarding the management of key BSA/AML risks, and ensuring that these policies are adhered to in practice.',\n",
       " 'Senior management is responsible for communicating and reinforcing the BSA/AML compliance culture established by the board, and implementing and enforcing the board-approved BSA/AML compliance program.',\n",
       " 'Senior management of a foreign banking organization’s U.S. operations should provide sufficient information relating to the U.S. operations’ BSA/AML compliance to the governance or control functions in its home country, and should ensure that responsible senior management in the home country has an appropriate understanding of the BSA/AML risk and control environment governing U.S. operations.',\n",
       " 'This should include an assessment of how clearly roles and responsibilities are communicated across the bank or banking organization.',\n",
       " 'outlining each party’s responsibilities.',\n",
       " 'Responsibility for recordkeeping (e.g., CTRs filed).',\n",
       " 'Responsibility for task performed (e.g., OFAC filtering).',\n",
       " 'In addition, domestic banks are independently responsible for OFAC compliance for any transactions that flow through their banks.',\n",
       " 'Each relationship that a U.S. bank has with a foreign correspondent financial institution should be governed by an agreement or a contract describing each party’s responsibilities and other relationship details (e.g., products and services provided, acceptance of deposits, clearing of items, forms of payment, and acceptable forms of endorsement).',\n",
       " '    Regardless of the business model employed, each physical transportation involves multiple parties that are responsible for fulfilling one or more specific roles in the delivery process.',\n",
       " 'Include procedures for processing shipments, including employee responsibilities, controls, reconciliation and documentation requirements, and employee/management authorizations.',\n",
       " \"The agreement or contract should describe each party's responsibilities and other relevant details of the relationship.\",\n",
       " 'While agreements and contracts should also provide for respective BSA/AML controls, obligations, and considerations, U.S. banks cannot shift their BSA/AML responsibilities to others.',\n",
       " 'Roles and responsibilities of each party.',\n",
       " 'Detail procedures for processing the pouch, including employee responsibilities, dual control, reconciliation and documentation requirements, and employee sign off.',\n",
       " 'The above factors should be included within an agreement or contract between the bank and the courier that details the services to be provided and the responsibilities of both parties.',\n",
       " 'Developing well-constructed contracts that clearly identify each party’s role, responsibilities, and liabilities, and that detail record retention procedures for RDC data.',\n",
       " 'The contract should also address the customer’s responsibility for properly securing RDC equipment and preventing inappropriate use, including establishing effective equipment security controls (e.g., passwords, dual control access).',\n",
       " 'The ODFI may establish an agreement with the TPSP, which delineates general TPSP guidelines, such as compliance with ACH operating requirements and responsibilities and meeting other applicable state and federal regulations.',\n",
       " \"The bank should consider its current and potential roles and responsibilities when developing internal controls to monitor and mitigate the risk associated with IATs and to comply with the bank's suspicious activity reporting obligations.\",\n",
       " 'Responsibilities, obligations, and risks of becoming a Gateway.',\n",
       " 'With respect to domestic ACH transactions, the ODFI is responsible for verifying that the Originator is not a blocked party and making a good faith effort to ascertain that the Originator is not transmitting blocked funds.',\n",
       " 'The RDFI similarly is responsible for verifying that the Receiver is not a blocked party.',\n",
       " \"If an ODFI receives domestic ACH transactions that its customer has already batched, the ODFI is not responsible for unbatching those transactions to ensure that no transactions violate OFAC's regulations.\",\n",
       " 'If an ODFI unbatches a file originally received from the Originator in order to process \"on-us\" transactions, that ODFI is responsible for the OFAC compliance for the on-us transactions because it is acting as both the ODFI and the RDFI for those transactions.',\n",
       " 'In the case of inbound IATs, and regardless of whether the OFAC flag in the IAT is set, an RDFI is responsible for compliance with OFAC sanctions.',\n",
       " 'As an MSB, providers of prepaid access are subject to certain BSA/AML responsibilities.',\n",
       " 'The entity that tracks and manages transactions and may be responsible for account set-up and activation; adding value to products; and fraud control and reporting.',\n",
       " \"Each relationship that a U.S. bank has with another financial institution or third party as part of a prepaid access program should be governed by an agreement or a contract describing each party's responsibilities and other relationship details, such as the products and services provided.\",\n",
       " 'The issuing bank maintains ultimate responsibility for BSA/AML compliance whether or not a contractual agreement has been established.',\n",
       " 'The policies on outsourcing should include processes for (1) documenting in writing the roles and responsibilities of the parties, (2) maintaining the confidentiality of customer information, and (3) maintaining the necessary access to information.',\n",
       " 'In an effort to address the risk inherent in certain deposit broker relationships, banks may want to consider having a signed contract that sets out the roles and responsibilities of each party and restrictions on types of customers (e.g., nonresident or offshore customers, PEPs, or foreign shell banks).',\n",
       " 'The manner in which the NDIP relationship is structured and the methods with which the products are offered substantially affect the bank’s BSA/AML risks and responsibilities.',\n",
       " 'Federal banking agencies are responsible for supervising NDIP activity conducted directly by the bank.',\n",
       " 'Because of this co-branded relationship, responsibility for BSA/AML compliance becomes complex.',\n",
       " 'As these accounts are not under the sole control of the bank or financial entity, responsibilities for completing CIP, CDD, and suspicious activity monitoring and reporting can vary.',\n",
       " \"The bank should fully understand each party's contractual responsibilities and ensure adequate control by all parties.\",\n",
       " 'Because of this dual-employee arrangement, the bank retains responsibility over NDIP activities.',\n",
       " 'Even if contractual agreements establish the financial services corporation as being responsible for BSA/AML, the bank needs to ensure proper oversight of its employees, including dual employees, and their compliance with all regulatory requirements.233If the bank uses the reliance provision under the CIP, responsibility for CIP shifts to the third-party provider.',\n",
       " 'When the dual employee is providing investment products and services, the broker/dealer is responsible for monitoring the registered representative’s compliance with applicable securities laws and regulations.',\n",
       " 'When the dual employee is providing bank products or services, the bank has the responsibility for monitoring the employee’s performance and compliance with BSA/AML.',\n",
       " 'Unlike networking arrangements, the bank is fully responsible for in-house NDIP transactions completed on behalf of its customers, either with or without the benefit of an internal broker/dealer employee.234In certain circumstances, a bank may not be considered a broker, and an employee need not register as a broker/dealer.',\n",
       " 'Unlike a networking arrangement, in which all or some of the responsibilities may be assumed by the third-party broker/dealer with in-house sales and proprietary products, the bank should manage all of its in-house and proprietary NDIP sales not only on a department-wide basis, but on an firm-wide basis.',\n",
       " 'The review should include an assessment of the broker/dealer’s financial status, management experience, National Association of Securities Dealers (NASD) status, reputation, and ability to fulfill its BSA/AML compliance responsibilities in regards to the bank’s customers.',\n",
       " 'Furthermore, detailed written contracts should address the BSA/AML responsibilities, including suspicious activity monitoring and reporting, of the broker/dealer and its registered representatives.',\n",
       " 'Such efforts may include a periodic review of information on the broker/dealer’s compliance with its BSA/AML responsibilities, verification of the broker/dealer’s record in meeting testing requirements, and a review of consumer complaints.',\n",
       " 'However, the insurance company is responsible for the conduct and effectiveness of its AML compliance program, which includes agent and broker activities.',\n",
       " 'Each bank should ensure that its policies, procedures, and processes for conducting private banking activities are evaluated and updated regularly and ensure that roles, responsibilities, and accountability are clearly delineated.',\n",
       " 'Official responsibilities of the individual’s office.',\n",
       " 'Embassies and foreign consulates in the United States require access to the banking system to meet many of their day-to-day financial responsibilities.',\n",
       " 'Furthermore, while banks are expected to manage risk associated with all accounts, including NBFI accounts, banks will not be held responsible for their customers’ compliance with the BSA and other applicable federal and state laws and regulations.',\n",
       " \"While banks are expected to manage risk associated with all accounts, including MSB accounts, banks will not be held responsible for the MSB's BSA/AML program.\",\n",
       " '287On December 9, 2008, FinCEN and the Internal Revenue Service released the Bank Secrecy Act/Anti-Money Laundering Examination Manual for Money Services Businesses (MSB Exam Manual) which was developed in collaboration with the Conference of State Bank Supervisors, the Money Transmitter Regulators Association, and state agencies responsible for MSB regulation.',\n",
       " '    Supervision and Regulation Letters, commonly known as SR Letters, address significant policy and procedural matters related to the Federal Reserve System’s supervisory responsibilities.',\n",
       " 'FILs may announce new regulations and policies, new FDIC publications, and a variety of other matters of principal interest to those responsible for operating a bank or savings association.',\n",
       " ' Name and title of the designated BSA compliance officer and, if different, the name and title of the person responsible for monitoring BSA/AML compliance.',\n",
       " 'Make available copies of the results of any internally or externally sourced independent audits or tests performed since the previous examination for BSA/AML, including the scope or engagement letter, management’s responses, and access to the workpapers.',\n",
       " 'Name and title of the designated OFAC compliance officer and, if different, the name and title of the person responsible for monitoring OFAC compliance.',\n",
       " 'Make available copies of the results of any internally or externally sourced independent audits or tests performed since the previous examination for OFAC, including the scope or engagement letter, management’s responses, and access to the workpapers.',\n",
       " 'A bank must retain a copy of any report filed with FinCEN and any supporting documentation, including the foreign bank certification or other responses to an inquiry, for a period of five years (31 CFR 1060.300).',\n",
       " 'A designated individual or individuals responsible for coordinating and monitoring BSA/AML compliance; and',\n",
       " 'For example, failure to take any action in response to an express criticism in an examination report regarding a failure to appoint a qualified compliance officer could be viewed as an uncorrected problem that would result in a cease and desist order.',\n",
       " \"For example, if an Agency notes in one examination report that an institution's training program was inadequate because it was out of date (for instance if it did not reflect changes in the law), and at the next examination the training program is adequately updated, but flaws are discovered in the internal controls for the BSA/AML Program, the Agency may determine not to issue a cease and desist order under sections 8(s) or 206(q) for failure to correct previously reported problems and will consider the full range of potential supervisory responses.\",\n",
       " 'Similarly, if an institution is cited in an examination report described above for failure to designate a qualified BSA compliance officer, and the institution by the next examination has appointed an otherwise qualified person to assume that responsibility, but the examiners recommend additional training for the person, an Agency may determine not to issue a cease and desist order under sections 8(s) or 206(q) based solely on that deficiency.',\n",
       " \"The Supervisory User should be the person or persons with primary responsibility for the bank's use of the BSA E-Filing System.\",\n",
       " 'They should be knowledgeable about the individuals responsible for preparing and submitting BSA filings and the processes by which filings are submitted.',\n",
       " 'The process of assigning roles will be required each time a new user is enrolled and will be required as users switch positions within the bank or take on additional responsibilities.',\n",
       " 'If a Supervisory User switches positions or leaves the bank, the Supervisory User will need to transfer Supervisory User responsibilities to another individual or individuals.',\n",
       " 'Rejection of a batch file does not relieve the filer of the responsibility to file within the required timeframes established by the BSA regulations.',\n",
       " 'Having a standard naming convention will be even more important if the organization has multiple people responsible for filing.']"
      ]
     },
     "execution_count": 18,
     "metadata": {},
     "output_type": "execute_result"
    }
   ],
   "source": [
    "# Test search function\n",
    "search('responsible')"
   ]
  },
  {
   "cell_type": "code",
   "execution_count": 19,
   "metadata": {},
   "outputs": [],
   "source": [
    "# Define requirement terms\n",
    "search_terms = ['shall', 'must', 'require', 'need', 'make', 'ensure', 'responsible']\n",
    "\n",
    "# Pass search terms to search function\n",
    "result0 = search(search_terms[0])\n",
    "result1 = search(search_terms[1])\n",
    "result2 = search(search_terms[2])\n",
    "result3 = search(search_terms[3])\n",
    "result4 = search(search_terms[4])\n",
    "result5 = search(search_terms[5])\n",
    "result6 = search(search_terms[6])\n",
    "\n",
    "# Concatenate results in a set\n",
    "all_results = {*result0, *result1, *result2, *result3, *result4, *result5, *result6}"
   ]
  },
  {
   "cell_type": "code",
   "execution_count": 20,
   "metadata": {},
   "outputs": [
    {
     "name": "stdout",
     "output_type": "stream",
     "text": [
      "1079  =  Number of extracted requirements\n"
     ]
    }
   ],
   "source": [
    "print(len(all_results),\" =  Number of extracted requirements\")"
   ]
  },
  {
   "cell_type": "code",
   "execution_count": 21,
   "metadata": {},
   "outputs": [],
   "source": [
    "# Prepare file for export\n",
    "req_export = []\n",
    "for num,req in enumerate(all_results, start=1):\n",
    "    item_num = num\n",
    "    item_req = req\n",
    "    temp_entry = [item_num, item_req]\n",
    "    \n",
    "    req_export.append(temp_entry)"
   ]
  },
  {
   "cell_type": "code",
   "execution_count": 22,
   "metadata": {},
   "outputs": [],
   "source": [
    "# Export list to CSV\n",
    "\n",
    "import csv\n",
    "\n",
    "    \n",
    "with open('../data/ffiec_requirements.csv', 'a') as outcsv:   \n",
    "    #configure writer to write standard csv file\n",
    "    writer = csv.writer(outcsv, lineterminator='\\n')\n",
    "    for item in req_export:\n",
    "        #Write item to outcsv\n",
    "        writer.writerow(item)"
   ]
  },
  {
   "cell_type": "code",
   "execution_count": null,
   "metadata": {},
   "outputs": [],
   "source": []
  },
  {
   "cell_type": "code",
   "execution_count": null,
   "metadata": {},
   "outputs": [],
   "source": []
  },
  {
   "cell_type": "code",
   "execution_count": null,
   "metadata": {},
   "outputs": [],
   "source": []
  },
  {
   "cell_type": "code",
   "execution_count": null,
   "metadata": {},
   "outputs": [],
   "source": [
    "# TEST AND COMPARE SPACY RESULTS TO NLTK"
   ]
  },
  {
   "cell_type": "code",
   "execution_count": 7,
   "metadata": {},
   "outputs": [],
   "source": [
    "# instantiate spacy model\n",
    "import en_core_web_sm\n",
    "nlp = en_core_web_sm.load()"
   ]
  },
  {
   "cell_type": "code",
   "execution_count": 8,
   "metadata": {},
   "outputs": [
    {
     "name": "stdout",
     "output_type": "stream",
     "text": [
      "[0]     The examiner should develop and document an initial examination plan commensurate with the overall BSA/AML risk profile of the bank.\n",
      "[1] This plan may change during the examination as a result of on-site findings, and any changes to the plan should likewise be documented.\n",
      "[2] The examiner should prepare a request letter to the bank.\n",
      "[3] Suggested request letter items are detailed in    Appendix H (“Request Letter Items (Core and Expanded)”).\n",
      "[4] On the basis of the risk profile, quality of audit, previous examination findings, and initial examination work, examiners should complete additional core and expanded examination procedures, as appropriate.\n",
      "[5] The examiner must include an evaluation of the BSA/AML compliance program within the supervisory plan or cycle.\n",
      "[6] At larger, more complex banking organizations, examiners may complete various types of examinations throughout the supervisory plan or cycle to assess BSA/AML compliance.\n",
      "[7] These reviews may focus on one or more business lines (e.g., private banking, trade financing, or foreign correspondent banking relationships), based upon the banking organization’s risk assessment and recent audit and examination findings.\n"
     ]
    }
   ],
   "source": [
    "doc = nlp(ffiec_content[22])\n",
    "for num, sent in enumerate(doc.sents):\n",
    "    print(f\"[{num}] {sent.text}\")"
   ]
  },
  {
   "cell_type": "code",
   "execution_count": null,
   "metadata": {},
   "outputs": [],
   "source": []
  },
  {
   "cell_type": "code",
   "execution_count": 9,
   "metadata": {},
   "outputs": [],
   "source": [
    "from spacy.pipeline import Sentencizer\n",
    "sentencizer = Sentencizer()"
   ]
  },
  {
   "cell_type": "code",
   "execution_count": 10,
   "metadata": {},
   "outputs": [],
   "source": [
    "spacy_sentences = []\n",
    "\n",
    "for i in ffiec_content:\n",
    "    doc = nlp(i)\n",
    "    sents = doc.sents\n",
    "    for s in sents:\n",
    "        txt = s.text\n",
    "\n",
    "        spacy_sentences.append(txt)"
   ]
  },
  {
   "cell_type": "code",
   "execution_count": 11,
   "metadata": {},
   "outputs": [
    {
     "name": "stdout",
     "output_type": "stream",
     "text": [
      "Spacy: 8260\n",
      "NLTK : 7437\n",
      "Diff : 823\n"
     ]
    }
   ],
   "source": [
    "print(f\"Spacy: {len(spacy_sentences)}\")\n",
    "print(f\"NLTK : {len(nltk_sentences)}\")\n",
    "print(f\"Diff : {len(spacy_sentences)-len(nltk_sentences)}\")"
   ]
  }
 ],
 "metadata": {
  "kernelspec": {
   "display_name": "knowledge",
   "language": "python",
   "name": "knowledge"
  },
  "language_info": {
   "codemirror_mode": {
    "name": "ipython",
    "version": 3
   },
   "file_extension": ".py",
   "mimetype": "text/x-python",
   "name": "python",
   "nbconvert_exporter": "python",
   "pygments_lexer": "ipython3",
   "version": "3.6.5"
  }
 },
 "nbformat": 4,
 "nbformat_minor": 2
}
